{
 "cells": [
  {
   "cell_type": "markdown",
   "metadata": {},
   "source": [
    "# **Finite Fields**"
   ]
  },
  {
   "cell_type": "code",
   "execution_count": 1,
   "metadata": {},
   "outputs": [],
   "source": [
    "from finite_field import FiniteFieldElement"
   ]
  },
  {
   "cell_type": "markdown",
   "metadata": {},
   "source": [
    "## Definition"
   ]
  },
  {
   "cell_type": "markdown",
   "metadata": {},
   "source": [
    "Mathematically, a finite field is defined as a finite set of numbers and two operations $+$\n",
    "(addition) and $⋅$ (multiplication) that satisfy the following properties: <br><br>\n",
    "1. **Closed**: If $a$ and $b$ are in the set, $a + b$ and $a ⋅ b$ are in the set.<br>\n",
    "2. **Additive identity**: $0$ exists and has the property $a + 0 = a$.<br>\n",
    "3. **Multiplicative identity**: $1$ exists and has the property $a ⋅ 1 = a$..<br>\n",
    "4. **Additive inverse**: If $a$ is in the set, $–a$ is in the set, which is defined as the value that makes $a + (–a)\n",
    "= 0$.<br>\n",
    "5. **Multiplicative inverse**: If $a$ is in the set and is not $0$, $a^{-1}$ is in the set, which is defined as the value that\n",
    "makes $a$ ⋅ $a^{-1}$ = 1.<br>"
   ]
  },
  {
   "cell_type": "markdown",
   "metadata": {},
   "source": [
    "The size of the set, also called the \"order\" of the set, is designated with the number $p$.<br><br>\n",
    "A finite field set looks like this:\n",
    "$$F_p = \\{0, 1, 2, 3, ..., p-1\\}$$\n",
    "Each number in a finite field set is called an \"element\" of the set. These elements behave a lot like numbers in \"normal\" math but have some differences when it comes to mathematical operations like addition, subtraction, multiplication and division.<br><br>\n",
    "Finite fields must have an order that is a power of a prime and for our purposes they must have a prime order. The reason for this will become clear once we define the mathematical operations."
   ]
  },
  {
   "cell_type": "markdown",
   "metadata": {},
   "source": [
    "## Finite Field Operations"
   ]
  },
  {
   "cell_type": "markdown",
   "metadata": {},
   "source": [
    "### **Addition and Subtraction**"
   ]
  },
  {
   "cell_type": "markdown",
   "metadata": {},
   "source": [
    "One of the keys to understanding how and why finite field operations are defined the way they are is to understand that in abstract algebra we can define the mathematical operations, such as addition and multiplication, differently to the addition and multiplication we know from normal math. This gives us a great deal of flexibility as long as we make sure that the operations we define satisfy the 5 properties mentioned above.<br><br>\n",
    "In order to make finite fields closed under addition, subtraction, multiplication and division we will use modulo arithmetic."
   ]
  },
  {
   "cell_type": "markdown",
   "metadata": {},
   "source": [
    "#### **How modulo makes finite field addition closed**"
   ]
  },
  {
   "cell_type": "markdown",
   "metadata": {},
   "source": [
    "Modulo operations give us the remainder after dividing one number by another. In Python, the mod (modulo) operator is \"%\". Given a finite field of order 23, we have:"
   ]
  },
  {
   "cell_type": "code",
   "execution_count": 2,
   "metadata": {},
   "outputs": [
    {
     "name": "stdout",
     "output_type": "stream",
     "text": [
      "15 + 10 = 2\n",
      "15 + 21 = 13\n"
     ]
    }
   ],
   "source": [
    "p = 23\n",
    "\n",
    "# Addition\n",
    "print(f'15 + 10 = {(15 + 10) % p}')\n",
    "print(f'15 + 21 = {(15 + 21) % p}')"
   ]
  },
  {
   "cell_type": "markdown",
   "metadata": {},
   "source": [
    "The results might be unintuitive compared to regular math but this is due to the fact that modulo arithmetic \"wraps around\" when the number becomes greater than or equal to the order of the field and starts again at zero. This is similar to a clock that starts again at 1 after reaching 12.<br><br>\n",
    "Modulo also works with negative values, which allows us to do subtraction or get additive inverses:"
   ]
  },
  {
   "cell_type": "code",
   "execution_count": 3,
   "metadata": {},
   "outputs": [
    {
     "name": "stdout",
     "output_type": "stream",
     "text": [
      "15 plus its finite field inverse 8: 15 + 8 = 0\n"
     ]
    }
   ],
   "source": [
    "# Additive inverse\n",
    "num = 15\n",
    "# Same as p-num\n",
    "inverse = -num % p\n",
    "print(f'{num} plus its finite field inverse {inverse}: {num} + {inverse} = {(num + inverse) % p}')"
   ]
  },
  {
   "cell_type": "markdown",
   "metadata": {},
   "source": [
    "**Definitions**<br><br>\n",
    "We define field addition this way:  \n",
    "$$a \\mathbin{+_{\\mathcal{f}}} b = (a + b) \\mod p$$  \n",
    "where $a, b \\in \\mathbb{F}_p$.\n",
    "\n",
    "We also define the additive inverse this way: $a \\in \\mathbb{F}_p$ implies that $-_{\\mathcal{f}}a \\in \\mathbb{F}_p$;  \n",
    "$$-_{\\mathcal{f}}a = (-a) \\mod p$$\n",
    "There are two rules for additive inverses:<br>\n",
    "- Zero is its own additive inverse.\n",
    "- Every number has exactly one additive inverse."
   ]
  },
  {
   "cell_type": "code",
   "execution_count": 4,
   "metadata": {},
   "outputs": [
    {
     "name": "stdout",
     "output_type": "stream",
     "text": [
      "FiniteFieldElement_23(13)\n",
      "True\n"
     ]
    }
   ],
   "source": [
    "# Using the FiniteFieldElement class for addition\n",
    "p = 23\n",
    "a = FiniteFieldElement(15, p)\n",
    "b = FiniteFieldElement(21, p)\n",
    "print(a + b)\n",
    "print(a + b == FiniteFieldElement(13, p))"
   ]
  },
  {
   "cell_type": "markdown",
   "metadata": {},
   "source": [
    "Finite field addition is commutative and associative:"
   ]
  },
  {
   "cell_type": "code",
   "execution_count": 5,
   "metadata": {},
   "outputs": [
    {
     "name": "stdout",
     "output_type": "stream",
     "text": [
      "True\n",
      "True\n"
     ]
    }
   ],
   "source": [
    "print(a + b == b + a)\n",
    "print((a + b) + b == a + (b + b))"
   ]
  },
  {
   "cell_type": "markdown",
   "metadata": {},
   "source": [
    "Adding the additive identity element to an alement, ($0$), leaves the element unchanged:"
   ]
  },
  {
   "cell_type": "code",
   "execution_count": 6,
   "metadata": {},
   "outputs": [
    {
     "name": "stdout",
     "output_type": "stream",
     "text": [
      "15\n"
     ]
    }
   ],
   "source": [
    "a = FiniteFieldElement(15, p)\n",
    "additive_identity = FiniteFieldElement(0, p)\n",
    "print((a + additive_identity).num)"
   ]
  },
  {
   "cell_type": "code",
   "execution_count": 7,
   "metadata": {},
   "outputs": [
    {
     "name": "stdout",
     "output_type": "stream",
     "text": [
      "15 - 10 = 5\n",
      "10 - 15 = 18\n"
     ]
    }
   ],
   "source": [
    "# Subtraction\n",
    "p = 23\n",
    "print(f'15 - 10 = {(15 - 10) % p}')\n",
    "print(f'10 - 15 = {(10 - 15) % p}')"
   ]
  },
  {
   "cell_type": "code",
   "execution_count": 8,
   "metadata": {},
   "outputs": [
    {
     "name": "stdout",
     "output_type": "stream",
     "text": [
      "FiniteFieldElement_23(18)\n"
     ]
    }
   ],
   "source": [
    "# Using the FiniteFieldElement class for subtraction\n",
    "p = 23\n",
    "a = FiniteFieldElement(10, p)\n",
    "b = FiniteFieldElement(15, p)\n",
    "print(a - b)"
   ]
  },
  {
   "cell_type": "markdown",
   "metadata": {},
   "source": [
    "It's important to note here that subtraction is actually defined in terms of addition, meaning that $a - b = a + (-b)$ where $(-b)$ is the additive inverse of $b$."
   ]
  },
  {
   "cell_type": "code",
   "execution_count": 9,
   "metadata": {},
   "outputs": [
    {
     "name": "stdout",
     "output_type": "stream",
     "text": [
      "Inverse of 15 in finite field of oder 23 is 8\n",
      "FiniteFieldElement_23(18)\n",
      "FiniteFieldElement_23(18)\n"
     ]
    }
   ],
   "source": [
    "p = 23\n",
    "a = FiniteFieldElement(10, p)\n",
    "b = FiniteFieldElement(15, p)\n",
    "b_inv = FiniteFieldElement(-b.num % p, p)\n",
    "print(f'Inverse of {b.num} in finite field of oder {p} is {b_inv.num}')\n",
    "print(a - b)\n",
    "print(a + b_inv)"
   ]
  },
  {
   "cell_type": "markdown",
   "metadata": {},
   "source": [
    "The above results show that in a finite field, any number outside of the finite set of numbers $\\{0, 1, 2, ..., p-1\\}$ is always mapped to an \"equivalent\" number in this range using modulo. In mathematics the word for \"equivalent\" in this sense is \"congruent\". As we saw in above, in a finite field of order $23$ the number $25$ is congruent to $2$ ($25\\%23 = 2$) and the number $-5$ is congruent to $18$ ($-5\\%23 = 18$). While these are different numbers in normal math, they map to the same element in the finite field."
   ]
  },
  {
   "cell_type": "markdown",
   "metadata": {},
   "source": [
    "### Multiplication and Exponentiation"
   ]
  },
  {
   "cell_type": "markdown",
   "metadata": {},
   "source": [
    "Multiplication works very similar to addition in that we multiply the numbers being multiplied and then mod by the size of the set."
   ]
  },
  {
   "cell_type": "code",
   "execution_count": 10,
   "metadata": {},
   "outputs": [
    {
     "name": "stdout",
     "output_type": "stream",
     "text": [
      "FiniteFieldElement_23(12)\n",
      "12\n",
      "6\n"
     ]
    }
   ],
   "source": [
    "p = 23\n",
    "a = FiniteFieldElement(10, p)\n",
    "b = FiniteFieldElement(15, p)\n",
    "print(a * b)\n",
    "print(10 * 15 % p)\n",
    "print(10 * 15 // p)"
   ]
  },
  {
   "cell_type": "markdown",
   "metadata": {},
   "source": [
    "Finite field multiplication is commutative and associative:"
   ]
  },
  {
   "cell_type": "code",
   "execution_count": 11,
   "metadata": {},
   "outputs": [
    {
     "name": "stdout",
     "output_type": "stream",
     "text": [
      "True\n",
      "True\n"
     ]
    }
   ],
   "source": [
    "print(a * b == b * a)\n",
    "print((a * b) * b == a * (b * b))"
   ]
  },
  {
   "cell_type": "markdown",
   "metadata": {},
   "source": [
    "Multiplying an element by the multiplicative identity element, $1$, leaves the element unchanged:"
   ]
  },
  {
   "cell_type": "code",
   "execution_count": 12,
   "metadata": {},
   "outputs": [
    {
     "name": "stdout",
     "output_type": "stream",
     "text": [
      "15\n"
     ]
    }
   ],
   "source": [
    "a = FiniteFieldElement(15, p)\n",
    "multiplicative_identity = FiniteFieldElement(1, p)\n",
    "print((a * multiplicative_identity).num)"
   ]
  },
  {
   "cell_type": "markdown",
   "metadata": {},
   "source": [
    "Multiplication is distributive over addition:"
   ]
  },
  {
   "cell_type": "code",
   "execution_count": 13,
   "metadata": {},
   "outputs": [
    {
     "name": "stdout",
     "output_type": "stream",
     "text": [
      "True\n"
     ]
    }
   ],
   "source": [
    "a = FiniteFieldElement(10, p)\n",
    "b = FiniteFieldElement(15, p)\n",
    "c = FiniteFieldElement(3, p)\n",
    "print(a * (b + c) == (a * b) + (a * c))"
   ]
  },
  {
   "cell_type": "markdown",
   "metadata": {},
   "source": [
    "Thought experiment: what is the following set in ${F}_{23}$:<br><br>\n",
    "$\\{x⋅0, x⋅1, x⋅2, ..., x⋅22\\}$<br><br>\n",
    "for a variety of different values for $x$, say 1, 2, 7, 11 and 14?"
   ]
  },
  {
   "cell_type": "code",
   "execution_count": 14,
   "metadata": {},
   "outputs": [
    {
     "name": "stdout",
     "output_type": "stream",
     "text": [
      "[0, 1, 2, 3, 4, 5, 6, 7, 8, 9, 10, 11, 12, 13, 14, 15, 16, 17, 18, 19, 20, 21, 22]\n",
      "[0, 2, 4, 6, 8, 10, 12, 14, 16, 18, 20, 22, 1, 3, 5, 7, 9, 11, 13, 15, 17, 19, 21]\n",
      "[0, 7, 14, 21, 5, 12, 19, 3, 10, 17, 1, 8, 15, 22, 6, 13, 20, 4, 11, 18, 2, 9, 16]\n",
      "[0, 11, 22, 10, 21, 9, 20, 8, 19, 7, 18, 6, 17, 5, 16, 4, 15, 3, 14, 2, 13, 1, 12]\n",
      "[0, 14, 5, 19, 10, 1, 15, 6, 20, 11, 2, 16, 7, 21, 12, 3, 17, 8, 22, 13, 4, 18, 9]\n"
     ]
    }
   ],
   "source": [
    "p = 23\n",
    "xs = [1, 2, 7, 11, 14]\n",
    "for x in xs:\n",
    "    ff_set = [(x * FiniteFieldElement(y, p)).num for y in range(p)]\n",
    "    print(ff_set)"
   ]
  },
  {
   "cell_type": "code",
   "execution_count": 15,
   "metadata": {},
   "outputs": [
    {
     "name": "stdout",
     "output_type": "stream",
     "text": [
      "[0, 1, 2, 3, 4, 5, 6, 7, 8, 9, 10, 11, 12, 13, 14, 15, 16, 17, 18, 19, 20, 21, 22]"
     ]
    },
    {
     "name": "stdout",
     "output_type": "stream",
     "text": [
      "\n",
      "[0, 1, 2, 3, 4, 5, 6, 7, 8, 9, 10, 11, 12, 13, 14, 15, 16, 17, 18, 19, 20, 21, 22]\n",
      "[0, 1, 2, 3, 4, 5, 6, 7, 8, 9, 10, 11, 12, 13, 14, 15, 16, 17, 18, 19, 20, 21, 22]\n",
      "[0, 1, 2, 3, 4, 5, 6, 7, 8, 9, 10, 11, 12, 13, 14, 15, 16, 17, 18, 19, 20, 21, 22]\n",
      "[0, 1, 2, 3, 4, 5, 6, 7, 8, 9, 10, 11, 12, 13, 14, 15, 16, 17, 18, 19, 20, 21, 22]\n"
     ]
    }
   ],
   "source": [
    "# Ordering the resulting lists\n",
    "p = 23\n",
    "xs = [1, 2, 7, 11, 14]\n",
    "for x in xs:\n",
    "    ff_set = [(x * FiniteFieldElement(y, p)).num for y in range(p)]\n",
    "    print(sorted(ff_set))"
   ]
  },
  {
   "cell_type": "code",
   "execution_count": 16,
   "metadata": {},
   "outputs": [
    {
     "name": "stdout",
     "output_type": "stream",
     "text": [
      "[0, 1, 2, 3, 4, 5, 6, 7, 8, 9, 10, 11, 12, 13, 14, 15, 16, 17, 18, 19, 20, 21, 22]\n",
      "[0, 1, 2, 3, 4, 5, 6, 7, 8, 9, 10, 11, 12, 13, 14, 15, 16, 17, 18, 19, 20, 21, 22]\n",
      "[0, 1, 2, 3, 4, 5, 6, 7, 8, 9, 10, 11, 12, 13, 14, 15, 16, 17, 18, 19, 20, 21, 22]\n",
      "[0, 1, 2, 3, 4, 5, 6, 7, 8, 9, 10, 11, 12, 13, 14, 15, 16, 17, 18, 19, 20, 21, 22]\n",
      "[0, 1, 2, 3, 4, 5, 6, 7, 8, 9, 10, 11, 12, 13, 14, 15, 16, 17, 18, 19, 20, 21, 22]\n"
     ]
    }
   ],
   "source": [
    "# The x values don't have to be less than p\n",
    "p = 23\n",
    "xs = [1, 2, 7, 11, 35]\n",
    "for x in xs:\n",
    "    ff_set = [(x * FiniteFieldElement(y, p)).num for y in range(p)]\n",
    "    print(sorted(set(ff_set)))"
   ]
  },
  {
   "cell_type": "code",
   "execution_count": 17,
   "metadata": {},
   "outputs": [
    {
     "name": "stdout",
     "output_type": "stream",
     "text": [
      "[0, 1, 2, 3, 4, 5, 6, 7, 8, 9, 10, 11, 12, 13]\n",
      "[0, 0, 2, 2, 4, 4, 6, 6, 8, 8, 10, 10, 12, 12]\n",
      "[0, 0, 0, 0, 0, 0, 0, 7, 7, 7, 7, 7, 7, 7]\n",
      "[0, 1, 2, 3, 4, 5, 6, 7, 8, 9, 10, 11, 12, 13]\n",
      "[0, 0, 0, 0, 0, 0, 0, 7, 7, 7, 7, 7, 7, 7]\n"
     ]
    }
   ],
   "source": [
    "# What happens if we use a non-prime order?\n",
    "p = 14\n",
    "xs = [1, 2, 7, 11, 35]\n",
    "for x in xs:\n",
    "    ff_set = [(x * FiniteFieldElement(y, p)).num for y in range(p)]\n",
    "    print(sorted(ff_set))"
   ]
  },
  {
   "cell_type": "code",
   "execution_count": 18,
   "metadata": {},
   "outputs": [
    {
     "name": "stdout",
     "output_type": "stream",
     "text": [
      "[0, 1, 2, 3, 4, 5, 6, 7, 8, 9, 10, 11, 12, 13]\n",
      "[0, 2, 4, 6, 8, 10, 12]\n",
      "[0, 7]\n",
      "[0, 1, 2, 3, 4, 5, 6, 7, 8, 9, 10, 11, 12, 13]\n",
      "[0, 7]\n"
     ]
    }
   ],
   "source": [
    "# The above lists have a lot of duplicate values... the actual sets of elements are:\n",
    "p = 14\n",
    "xs = [1, 2, 7, 11, 35] # 35 here is congruent to 7\n",
    "for x in xs:\n",
    "    ff_set = [(x * FiniteFieldElement(y, p)).num for y in range(p)]\n",
    "    print(sorted(set(ff_set)))"
   ]
  },
  {
   "cell_type": "markdown",
   "metadata": {},
   "source": [
    "The above result shows why it's so important that sets have a prime order. If the order of the set is not prime then multiplication by one of the divisors will lead to a smaller set. We want multiplication to have no impact on the size of the set (and its elements when all are multiplied by the same number)."
   ]
  },
  {
   "cell_type": "markdown",
   "metadata": {},
   "source": [
    "Exponentiation is just multiplying a number a given number of times. "
   ]
  },
  {
   "cell_type": "code",
   "execution_count": 19,
   "metadata": {},
   "outputs": [
    {
     "name": "stdout",
     "output_type": "stream",
     "text": [
      "FiniteFieldElement_23(11)\n",
      "11\n",
      "11\n"
     ]
    }
   ],
   "source": [
    "p = 23\n",
    "a = FiniteFieldElement(10, p)\n",
    "exponent = 3\n",
    "print(a ** exponent)\n",
    "print(10 ** exponent % p)\n",
    "# Python's pow() function is a bit more efficient so we use that one\n",
    "print(pow(a.num, exponent, p))"
   ]
  },
  {
   "cell_type": "markdown",
   "metadata": {},
   "source": [
    "### Division"
   ]
  },
  {
   "cell_type": "markdown",
   "metadata": {},
   "source": [
    "Unlike addition, subtraction and multiplication, division is the most unintuitive of the finite field operations and is the hardest to make sense of. One fact from \"normal\" math that we will keep in mind to make sense of it is that division is the inverse of multiplication. This means that $7 ⋅ 3 = 21$ implies that $21 / 7 = 3$ or $21 / 3 = 7$.<br><br>\n",
    "In a finite field this means that in ${F}_{11}$ we have that $10/7 = 3$ because $3 ⋅ 7 = 10$, as the below code shows:"
   ]
  },
  {
   "cell_type": "code",
   "execution_count": 20,
   "metadata": {},
   "outputs": [
    {
     "name": "stdout",
     "output_type": "stream",
     "text": [
      "FiniteFieldElement_11(10)\n"
     ]
    }
   ],
   "source": [
    "# In a finite field this means that\n",
    "p = 11\n",
    "a = FiniteFieldElement(3, p)\n",
    "b = FiniteFieldElement(7, p)\n",
    "print(a * b)"
   ]
  },
  {
   "cell_type": "markdown",
   "metadata": {},
   "source": [
    "We could only make the above statement that in ${F}_{11}$ we have that $10/7 = 3$ because we first calculated $3 ⋅ 7 = 10$ and then simply inversed the computation. But how do we compute $10/7$ without knowing that $3 ⋅ 7 = 10$?<br><br>\n",
    "This is where a mathematical theorem called \"Fermat's Little Theorem\" comes into play. This video provides a well done explanation of the theroem: <br>\n",
    "https://www.youtube.com/watch?v=w0ZQvZLx2KA&ab_channel=Socratica <br><br>\n",
    "The theorem provides a useful proof for the fact that for any integer $0<m<p$,  where $p$ is prime, we get that:<br><br>\n",
    "$m^{(p-1)} \\% p ≡ 1$<br><br>\n",
    "\n",
    "The derivation of the proof is beyond the scope of this lesson but the above YouTube video does a great job at explaining it in 10 minutes. We can just verify that this is the case by computing the following set in ${F}_{p}$:<br><br>\n",
    "$\\{1^{(p-1)}, 2^{(p-1)}, 3^{(p-1)}, ..., {p-1}^{(p-1)}\\}$<br><br>\n",
    "for a variety of different values for $p$, say 3, 7, 11 and 29."
   ]
  },
  {
   "cell_type": "code",
   "execution_count": 21,
   "metadata": {},
   "outputs": [
    {
     "name": "stdout",
     "output_type": "stream",
     "text": [
      "[1, 1]\n",
      "[1, 1, 1, 1, 1, 1]\n",
      "[1, 1, 1, 1, 1, 1, 1, 1, 1, 1]\n",
      "[1, 1, 1, 1, 1, 1, 1, 1, 1, 1, 1, 1, 1, 1, 1, 1, 1, 1, 1, 1, 1, 1, 1, 1, 1, 1, 1, 1]\n"
     ]
    }
   ],
   "source": [
    "ps = [3, 7, 11, 29]\n",
    "for p in ps:\n",
    "    ff_set = [(FiniteFieldElement(x, p) ** (p-1)).num for x in range(1, p)]\n",
    "    print(ff_set)"
   ]
  },
  {
   "cell_type": "markdown",
   "metadata": {},
   "source": [
    "Using the result from Fermat's Little Theorem we can find a clever way of doing division, i.e. the inverse of multiplication, by re-arranging the terms a little bit and turning a division into a multiplication. This is similar to turning $x/y$ into $x⋅y^{-1}$ in \"normal\" math. In fact, division for finite fields is defined using multiplication, similar to hoe subtraction is defined using addition. A finite field set only has two operations, addition and multiplication, and we just use them to define subtraction and addition.<br><br>\n",
    "If we have two finite field elements, $x$ and $y$, in a finite field with prime order p and we want to compute $x/y$ then we can figure out $y^{-1}$ as follows:<br><br>\n",
    "$y^{-1} = y^{-1}⋅y^{p-1} = y^{p-2}$ because $y^{p-1} ≡ 1$ (from Fermat's Little Theorem)<br><br>\n",
    "$x/y$  then just becomes $x⋅y^{p-2}$, which we can compute using exponentiation.<br><br>\n",
    "We can now verify that this way of doing division leads to $10/7 = 3$ in ${F}_{11}$:"
   ]
  },
  {
   "cell_type": "code",
   "execution_count": 22,
   "metadata": {},
   "outputs": [
    {
     "name": "stdout",
     "output_type": "stream",
     "text": [
      "FiniteFieldElement_11(3)\n",
      "3\n"
     ]
    }
   ],
   "source": [
    "p = 11\n",
    "b = FiniteFieldElement(7, p)\n",
    "c = FiniteFieldElement(10, p)\n",
    "print(c/b)\n",
    "# Which is the same as\n",
    "print((10 * 7 ** (p-2)) % p)"
   ]
  },
  {
   "cell_type": "markdown",
   "metadata": {},
   "source": [
    "We are actually leveraging the result from Fermat's Little Theorem not only in the division but also the exponentiation of finite field elements. The reason for this is that in finite fields, exponents can be very large. By reducing the exponent modulo $p-1$, we can significantly decrease the size of the exponent, making computations much faster and more efficient. <br><br>\n",
    "This will also tranfsorm a negative exponent into a positive one using $\\% (p-1)$. For example, if $m$ is our exponent and it's negative, then $m \\% (p-1)$ will yield an equivalent positive exponent in the range $0$ to $p-2$. This works because $a^{p-1} ≡ 1$ so any exponent can be reduced modulo $p-1$ to get an equivalent exponent.<br><br>\n",
    "We can verify this ourselves by doing the inverse operation. As an example we will use a number, $7$, in ${F}_{11}$ and compute $7^{-5}$ and then raise this value to the power of $-1$, which should yield $7^{5}$ since $(m^{-x})^{-1}=m^x$. Note that the actual inverse operation of $m^{-x}$ is $(m^{-x})^{-1/x}$ but the \\__pow__() function requires all arguments to be integer if we provide a modulo."
   ]
  },
  {
   "cell_type": "code",
   "execution_count": 23,
   "metadata": {},
   "outputs": [
    {
     "name": "stdout",
     "output_type": "stream",
     "text": [
      "7^-3 = 6\n",
      "(7^-3)^-1 = 2\n",
      "7^3 = 2\n"
     ]
    }
   ],
   "source": [
    "p = 11\n",
    "m = FiniteFieldElement(7, p)\n",
    "a = m ** (-3)\n",
    "print(f'{m.num}^-3 = {a.num}')\n",
    "b = a ** (-1)\n",
    "print(f'({m.num}^-3)^-1 = {b.num}')\n",
    "c = m ** 3\n",
    "print(f'{m.num}^3 = {c.num}')"
   ]
  },
  {
   "cell_type": "markdown",
   "metadata": {},
   "source": [
    "We can also show that the reduction of the exponent yields the same result using a very large exponent and then reducing it using $\\% (p-1)$:"
   ]
  },
  {
   "cell_type": "code",
   "execution_count": 24,
   "metadata": {},
   "outputs": [
    {
     "name": "stdout",
     "output_type": "stream",
     "text": [
      "7^3454635336 = 4\n",
      "7^6 = 4\n"
     ]
    }
   ],
   "source": [
    "p = 11\n",
    "m = FiniteFieldElement(7, p)\n",
    "large_exponent = 3454635336\n",
    "a = m ** large_exponent\n",
    "print(f'{m.num}^{large_exponent} = {a.num}')\n",
    "smaller_exponent = large_exponent % (p-1)\n",
    "b = m ** smaller_exponent\n",
    "print(f'{m.num}^{smaller_exponent} = {b.num}')"
   ]
  },
  {
   "cell_type": "markdown",
   "metadata": {},
   "source": [
    "## Summary"
   ]
  },
  {
   "cell_type": "markdown",
   "metadata": {},
   "source": [
    "We now know:\n",
    "- What a finite field is.\n",
    "- How modulo arithmetic makes finite field addition and multiplication (and therefore also subtraction adn division) closed.\n",
    "- That finite field operations are commutative and associative.\n",
    "- Every element has an additive inverse and every non-zero element has a multiplicative inverse.\n",
    "- There is an additive ($0$) and multiplicative ($1$) identity element.\n",
    "- Finite field multiplication is distributive over addition."
   ]
  }
 ],
 "metadata": {
  "kernelspec": {
   "display_name": "btc-env",
   "language": "python",
   "name": "python3"
  },
  "language_info": {
   "codemirror_mode": {
    "name": "ipython",
    "version": 3
   },
   "file_extension": ".py",
   "mimetype": "text/x-python",
   "name": "python",
   "nbconvert_exporter": "python",
   "pygments_lexer": "ipython3",
   "version": "3.11.1"
  }
 },
 "nbformat": 4,
 "nbformat_minor": 4
}
